{
 "cells": [
  {
   "cell_type": "code",
   "execution_count": 19,
   "id": "a79c91a4-8d12-4143-b67d-a3b367bcab83",
   "metadata": {
    "tags": []
   },
   "outputs": [],
   "source": [
    "def longestConsecutive(nums):\n",
    "    numSet = (nums)\n",
    "    longest = 0\n",
    "    \n",
    "    for n in nums:\n",
    "        #is this the start of a sequence? \n",
    "        if(n- 1) not in numSet:\n",
    "            length = 0\n",
    "            while (n + length) in numSet:\n",
    "                length += 1\n",
    "                if(length > longest):\n",
    "                    longest = length\n",
    "    return longest\n",
    "            \n",
    "            \n",
    "        \n",
    "        \n",
    "    "
   ]
  },
  {
   "cell_type": "code",
   "execution_count": 20,
   "id": "ecff5731-ca21-45aa-8bef-b4978a8074ad",
   "metadata": {
    "tags": []
   },
   "outputs": [
    {
     "data": {
      "text/plain": [
       "9"
      ]
     },
     "execution_count": 20,
     "metadata": {},
     "output_type": "execute_result"
    }
   ],
   "source": [
    "longestConsecutive([0,3,7,2,5,8,4,6,0,1])"
   ]
  },
  {
   "cell_type": "code",
   "execution_count": null,
   "id": "eb8bdc83-aebc-42cf-bb02-e1c1c77ed002",
   "metadata": {},
   "outputs": [],
   "source": []
  }
 ],
 "metadata": {
  "kernelspec": {
   "display_name": "Python 3 (ipykernel)",
   "language": "python",
   "name": "python3"
  },
  "language_info": {
   "codemirror_mode": {
    "name": "ipython",
    "version": 3
   },
   "file_extension": ".py",
   "mimetype": "text/x-python",
   "name": "python",
   "nbconvert_exporter": "python",
   "pygments_lexer": "ipython3",
   "version": "3.11.5"
  }
 },
 "nbformat": 4,
 "nbformat_minor": 5
}
